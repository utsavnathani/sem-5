{
 "cells": [
  {
   "cell_type": "markdown",
   "id": "b2960cc3",
   "metadata": {},
   "source": [
    "# python day 2"
   ]
  },
  {
   "cell_type": "markdown",
   "id": "4599fb21",
   "metadata": {},
   "source": [
    "# series demonstration"
   ]
  },
  {
   "cell_type": "code",
   "execution_count": 1,
   "id": "75fb8a5e",
   "metadata": {},
   "outputs": [],
   "source": [
    "import numpy as np"
   ]
  },
  {
   "cell_type": "code",
   "execution_count": 2,
   "id": "39c1c353",
   "metadata": {},
   "outputs": [],
   "source": [
    "import pandas as pd"
   ]
  },
  {
   "cell_type": "code",
   "execution_count": 3,
   "id": "fcec125b",
   "metadata": {},
   "outputs": [
    {
     "data": {
      "text/plain": [
       "pandas.core.series.Series"
      ]
     },
     "execution_count": 3,
     "metadata": {},
     "output_type": "execute_result"
    }
   ],
   "source": [
    "pd.Series"
   ]
  },
  {
   "cell_type": "code",
   "execution_count": 4,
   "id": "65417c09",
   "metadata": {},
   "outputs": [],
   "source": [
    "S=pd.Series(np.random.randn(5),index=[\"a\",\"b\",\"c\",\"d\",\"e\"])"
   ]
  },
  {
   "cell_type": "code",
   "execution_count": 5,
   "id": "e37b885a",
   "metadata": {},
   "outputs": [
    {
     "data": {
      "text/plain": [
       "a    0.638064\n",
       "b   -0.300822\n",
       "c   -0.152088\n",
       "d   -0.628696\n",
       "e   -2.510919\n",
       "dtype: float64"
      ]
     },
     "execution_count": 5,
     "metadata": {},
     "output_type": "execute_result"
    }
   ],
   "source": [
    "S"
   ]
  },
  {
   "cell_type": "code",
   "execution_count": 6,
   "id": "48eb4179",
   "metadata": {},
   "outputs": [
    {
     "data": {
      "text/plain": [
       "Index(['a', 'b', 'c', 'd', 'e'], dtype='object')"
      ]
     },
     "execution_count": 6,
     "metadata": {},
     "output_type": "execute_result"
    }
   ],
   "source": [
    "S.index"
   ]
  },
  {
   "cell_type": "code",
   "execution_count": 7,
   "id": "02063361",
   "metadata": {},
   "outputs": [],
   "source": [
    "S=pd.Series(np.random.randn(3))"
   ]
  },
  {
   "cell_type": "code",
   "execution_count": 8,
   "id": "adfcbc8b",
   "metadata": {},
   "outputs": [
    {
     "data": {
      "text/plain": [
       "0   -1.170575\n",
       "1   -1.389582\n",
       "2    2.236703\n",
       "dtype: float64"
      ]
     },
     "execution_count": 8,
     "metadata": {},
     "output_type": "execute_result"
    }
   ],
   "source": [
    "S"
   ]
  },
  {
   "cell_type": "code",
   "execution_count": 9,
   "id": "e6b41e38",
   "metadata": {},
   "outputs": [],
   "source": [
    "d={\"b\":1,\"a\":0,\"c\":2}"
   ]
  },
  {
   "cell_type": "code",
   "execution_count": 10,
   "id": "ef05a3e0",
   "metadata": {},
   "outputs": [
    {
     "data": {
      "text/plain": [
       "b    1\n",
       "a    0\n",
       "c    2\n",
       "dtype: int64"
      ]
     },
     "execution_count": 10,
     "metadata": {},
     "output_type": "execute_result"
    }
   ],
   "source": [
    "pd.Series(d)"
   ]
  },
  {
   "cell_type": "code",
   "execution_count": 11,
   "id": "e31d7ba1",
   "metadata": {},
   "outputs": [],
   "source": [
    "d={\"b\":1,\"a\":0,\"c\":2,\"d\":np.nan}"
   ]
  },
  {
   "cell_type": "code",
   "execution_count": 24,
   "id": "18f41ef8",
   "metadata": {},
   "outputs": [
    {
     "data": {
      "text/plain": [
       "b    1.0\n",
       "a    0.0\n",
       "c    2.0\n",
       "d    NaN\n",
       "dtype: float64"
      ]
     },
     "execution_count": 24,
     "metadata": {},
     "output_type": "execute_result"
    }
   ],
   "source": [
    "pd.Series(d)"
   ]
  },
  {
   "cell_type": "code",
   "execution_count": null,
   "id": "609f6bd6",
   "metadata": {},
   "outputs": [],
   "source": []
  },
  {
   "cell_type": "code",
   "execution_count": 30,
   "id": "09eb2f0d",
   "metadata": {},
   "outputs": [],
   "source": [
    "dict1={\"a\":1,\"B\":3,\"D\":5,\"A\":7}"
   ]
  },
  {
   "cell_type": "code",
   "execution_count": 31,
   "id": "8eb2865a",
   "metadata": {},
   "outputs": [
    {
     "data": {
      "text/plain": [
       "a    1\n",
       "B    3\n",
       "D    5\n",
       "A    7\n",
       "dtype: int64"
      ]
     },
     "execution_count": 31,
     "metadata": {},
     "output_type": "execute_result"
    }
   ],
   "source": [
    "#convert this in series\n",
    "s1=pd.Series(dict1)\n",
    "\n",
    "#print the series\n",
    "s1"
   ]
  },
  {
   "cell_type": "code",
   "execution_count": 34,
   "id": "341c98c2",
   "metadata": {},
   "outputs": [
    {
     "name": "stdout",
     "output_type": "stream",
     "text": [
      "name     ayush\n",
      "age         20\n",
      "marks      250\n",
      "dtype: object\n"
     ]
    }
   ],
   "source": [
    "#create one dictionaey\n",
    "dict_2={\"name\":\"ayush\",\"age\":20,\"marks\":\"250\"}\n",
    "\n",
    "#convert in series\n",
    "Series_2=pd.Series(dict_2)\n",
    "\n",
    "#print the series\n",
    "print(Series_2)"
   ]
  },
  {
   "cell_type": "code",
   "execution_count": 35,
   "id": "5ba641b8",
   "metadata": {},
   "outputs": [
    {
     "data": {
      "text/plain": [
       "name       NaN\n",
       "age       27.0\n",
       "marks    280.0\n",
       "dtype: float64"
      ]
     },
     "execution_count": 35,
     "metadata": {},
     "output_type": "execute_result"
    }
   ],
   "source": [
    "#create the dictionary with NaN\n",
    "dict_3={'name':np.nan,'age':27,'marks':280}\n",
    "\n",
    "#convert it into series\n",
    "Series_3=pd.Series(dict_3)\n",
    "\n",
    "#print the series_3\n",
    "Series_3"
   ]
  },
  {
   "cell_type": "markdown",
   "id": "37f888c0",
   "metadata": {},
   "source": [
    "## 28/6/23"
   ]
  },
  {
   "cell_type": "code",
   "execution_count": 5,
   "id": "4d4bee0b",
   "metadata": {},
   "outputs": [],
   "source": [
    "import numpy as np\n",
    "import pandas as pd"
   ]
  },
  {
   "cell_type": "code",
   "execution_count": 10,
   "id": "25592494",
   "metadata": {},
   "outputs": [
    {
     "data": {
      "text/html": [
       "<div>\n",
       "<style scoped>\n",
       "    .dataframe tbody tr th:only-of-type {\n",
       "        vertical-align: middle;\n",
       "    }\n",
       "\n",
       "    .dataframe tbody tr th {\n",
       "        vertical-align: top;\n",
       "    }\n",
       "\n",
       "    .dataframe thead th {\n",
       "        text-align: right;\n",
       "    }\n",
       "</style>\n",
       "<table border=\"1\" class=\"dataframe\">\n",
       "  <thead>\n",
       "    <tr style=\"text-align: right;\">\n",
       "      <th></th>\n",
       "      <th>one</th>\n",
       "      <th>two</th>\n",
       "    </tr>\n",
       "  </thead>\n",
       "  <tbody>\n",
       "    <tr>\n",
       "      <th>a</th>\n",
       "      <td>1.0</td>\n",
       "      <td>1.0</td>\n",
       "    </tr>\n",
       "    <tr>\n",
       "      <th>b</th>\n",
       "      <td>2.0</td>\n",
       "      <td>2.0</td>\n",
       "    </tr>\n",
       "    <tr>\n",
       "      <th>c</th>\n",
       "      <td>3.0</td>\n",
       "      <td>3.0</td>\n",
       "    </tr>\n",
       "    <tr>\n",
       "      <th>d</th>\n",
       "      <td>NaN</td>\n",
       "      <td>4.0</td>\n",
       "    </tr>\n",
       "  </tbody>\n",
       "</table>\n",
       "</div>"
      ],
      "text/plain": [
       "   one  two\n",
       "a  1.0  1.0\n",
       "b  2.0  2.0\n",
       "c  3.0  3.0\n",
       "d  NaN  4.0"
      ]
     },
     "execution_count": 10,
     "metadata": {},
     "output_type": "execute_result"
    }
   ],
   "source": [
    "d={\n",
    "    \"one\": pd.Series([1.0,2.0,3.0],index=[\"a\",\"b\",\"c\"]),\n",
    "    \"two\": pd.Series([1.0,2.0,3.0,4.0],index=[\"a\",\"b\",\"c\",\"d\"]),\n",
    "}\n",
    "df = pd.DataFrame(d)\n",
    "df"
   ]
  },
  {
   "cell_type": "code",
   "execution_count": 12,
   "id": "d1592cc7",
   "metadata": {},
   "outputs": [
    {
     "name": "stdout",
     "output_type": "stream",
     "text": [
      "a    10\n",
      "b    20\n",
      "c    30\n",
      "d    40\n",
      "e    50\n",
      "dtype: int64\n",
      "a    10\n",
      "b    20\n",
      "c    56\n",
      "d    40\n",
      "e    50\n",
      "dtype: int64\n",
      "a    10\n",
      "b    20\n",
      "c    35\n",
      "d    40\n",
      "e    50\n",
      "dtype: int64\n",
      "a    10\n",
      "b    20\n",
      "c    36\n",
      "d    40\n",
      "e    50\n",
      "dtype: int64\n",
      "a    10\n",
      "b    20\n",
      "c    37\n",
      "d    40\n",
      "e    50\n",
      "dtype: int64\n",
      "a    10\n",
      "b    20\n",
      "c    38\n",
      "d    40\n",
      "e    50\n",
      "dtype: int64\n",
      "a    10\n",
      "b    20\n",
      "c    39\n",
      "d    40\n",
      "e    50\n",
      "dtype: int64\n",
      "a    10\n",
      "b    20\n",
      "c    33\n",
      "d    40\n",
      "e    50\n",
      "dtype: int64\n",
      "a    10\n",
      "b    20\n",
      "c    32\n",
      "d    40\n",
      "e    50\n",
      "dtype: int64\n",
      "a    10\n",
      "b    20\n",
      "c    31\n",
      "d    40\n",
      "e    50\n",
      "dtype: int64\n"
     ]
    }
   ],
   "source": [
    "Series2=pd.Series([10,20,30,40,50],index=['a','b','c','d','e'])\n",
    "print(Series2)\n",
    "Series3=pd.Series([10,20,56,40,50],index=['a','b','c','d','e'])\n",
    "print(Series3)\n",
    "Series4=pd.Series([10,20,35,40,50],index=['a','b','c','d','e'])\n",
    "print(Series4)\n",
    "Series5=pd.Series([10,20,36,40,50],index=['a','b','c','d','e'])\n",
    "print(Series5)\n",
    "Series6=pd.Series([10,20,37,40,50],index=['a','b','c','d','e'])\n",
    "print(Series6)\n",
    "Series7=pd.Series([10,20,38,40,50],index=['a','b','c','d','e'])\n",
    "print(Series7)\n",
    "Series8=pd.Series([10,20,39,40,50],index=['a','b','c','d','e'])\n",
    "print(Series8)\n",
    "Series9=pd.Series([10,20,33,40,50],index=['a','b','c','d','e'])\n",
    "print(Series9)\n",
    "Series10=pd.Series([10,20,32,40,50],index=['a','b','c','d','e'])\n",
    "print(Series10)\n",
    "Series11=pd.Series([10,20,31,40,50],index=['a','b','c','d','e'])\n",
    "print(Series11)"
   ]
  },
  {
   "cell_type": "code",
   "execution_count": 16,
   "id": "375d1810",
   "metadata": {},
   "outputs": [
    {
     "data": {
      "text/html": [
       "<div>\n",
       "<style scoped>\n",
       "    .dataframe tbody tr th:only-of-type {\n",
       "        vertical-align: middle;\n",
       "    }\n",
       "\n",
       "    .dataframe tbody tr th {\n",
       "        vertical-align: top;\n",
       "    }\n",
       "\n",
       "    .dataframe thead th {\n",
       "        text-align: right;\n",
       "    }\n",
       "</style>\n",
       "<table border=\"1\" class=\"dataframe\">\n",
       "  <thead>\n",
       "    <tr style=\"text-align: right;\">\n",
       "      <th></th>\n",
       "      <th>column 2</th>\n",
       "      <th>column 3</th>\n",
       "      <th>column 4</th>\n",
       "      <th>column 5</th>\n",
       "      <th>column 6</th>\n",
       "      <th>column 7</th>\n",
       "      <th>column 8</th>\n",
       "      <th>column 9</th>\n",
       "      <th>column 10</th>\n",
       "      <th>column 11</th>\n",
       "    </tr>\n",
       "  </thead>\n",
       "  <tbody>\n",
       "    <tr>\n",
       "      <th>a</th>\n",
       "      <td>10</td>\n",
       "      <td>10</td>\n",
       "      <td>10</td>\n",
       "      <td>10</td>\n",
       "      <td>10</td>\n",
       "      <td>10</td>\n",
       "      <td>10</td>\n",
       "      <td>10</td>\n",
       "      <td>10</td>\n",
       "      <td>10</td>\n",
       "    </tr>\n",
       "    <tr>\n",
       "      <th>b</th>\n",
       "      <td>20</td>\n",
       "      <td>20</td>\n",
       "      <td>20</td>\n",
       "      <td>20</td>\n",
       "      <td>20</td>\n",
       "      <td>20</td>\n",
       "      <td>20</td>\n",
       "      <td>20</td>\n",
       "      <td>20</td>\n",
       "      <td>20</td>\n",
       "    </tr>\n",
       "    <tr>\n",
       "      <th>c</th>\n",
       "      <td>30</td>\n",
       "      <td>56</td>\n",
       "      <td>35</td>\n",
       "      <td>36</td>\n",
       "      <td>37</td>\n",
       "      <td>38</td>\n",
       "      <td>39</td>\n",
       "      <td>33</td>\n",
       "      <td>32</td>\n",
       "      <td>31</td>\n",
       "    </tr>\n",
       "    <tr>\n",
       "      <th>d</th>\n",
       "      <td>40</td>\n",
       "      <td>40</td>\n",
       "      <td>40</td>\n",
       "      <td>40</td>\n",
       "      <td>40</td>\n",
       "      <td>40</td>\n",
       "      <td>40</td>\n",
       "      <td>40</td>\n",
       "      <td>40</td>\n",
       "      <td>40</td>\n",
       "    </tr>\n",
       "    <tr>\n",
       "      <th>e</th>\n",
       "      <td>50</td>\n",
       "      <td>50</td>\n",
       "      <td>50</td>\n",
       "      <td>50</td>\n",
       "      <td>50</td>\n",
       "      <td>50</td>\n",
       "      <td>50</td>\n",
       "      <td>50</td>\n",
       "      <td>50</td>\n",
       "      <td>50</td>\n",
       "    </tr>\n",
       "  </tbody>\n",
       "</table>\n",
       "</div>"
      ],
      "text/plain": [
       "   column 2  column 3  column 4  column 5  column 6  column 7  column 8  \\\n",
       "a        10        10        10        10        10        10        10   \n",
       "b        20        20        20        20        20        20        20   \n",
       "c        30        56        35        36        37        38        39   \n",
       "d        40        40        40        40        40        40        40   \n",
       "e        50        50        50        50        50        50        50   \n",
       "\n",
       "   column 9  column 10  column 11  \n",
       "a        10         10         10  \n",
       "b        20         20         20  \n",
       "c        33         32         31  \n",
       "d        40         40         40  \n",
       "e        50         50         50  "
      ]
     },
     "execution_count": 16,
     "metadata": {},
     "output_type": "execute_result"
    }
   ],
   "source": [
    "#now convert those series in one datastructure (dataframe)\n",
    "Dataframe_1 =pd.DataFrame({\"column 2\":Series2,\n",
    "                           \"column 3\":Series3,\n",
    "                           \"column 4\":Series4,\n",
    "                           \"column 5\":Series5,\n",
    "                           \"column 6\":Series6,\n",
    "                           \"column 7\":Series7,\n",
    "                           \"column 8\":Series8,\n",
    "                           \"column 9\":Series9,\n",
    "                           \"column 10\":Series10,\n",
    "                           \"column 11\":Series11,})\n",
    "Dataframe_1                           "
   ]
  },
  {
   "cell_type": "code",
   "execution_count": null,
   "id": "c8c2c4b9",
   "metadata": {},
   "outputs": [],
   "source": []
  },
  {
   "cell_type": "markdown",
   "id": "2516eae4",
   "metadata": {},
   "source": [
    "name = pd.series(['ram','sham','raj','dan','som','tom'])\n",
    "age = pd.Series([50,54,29,37,60,78])\n",
    "branch =pd.Series([,animation','bia','data','fintech','cloud','data'])\n",
    "\n",
    "Dataframe pd.DataFrame({\"name\":name,\n",
    "                           \"age\":age,\n",
    "                           \"branch\":branch})\n",
    "Dataframe                 "
   ]
  },
  {
   "cell_type": "markdown",
   "id": "01cd43f0",
   "metadata": {},
   "source": [
    "# 30/6/23\n"
   ]
  },
  {
   "cell_type": "code",
   "execution_count": 1,
   "id": "5ed56e6f",
   "metadata": {},
   "outputs": [],
   "source": [
    "import numpy as np\n",
    "import pandas as pd"
   ]
  },
  {
   "cell_type": "code",
   "execution_count": 5,
   "id": "b927861a",
   "metadata": {},
   "outputs": [],
   "source": [
    "List1 =np.arange(100)\n",
    "\n",
    "List2 =np.random.randn(100)\n",
    "\n",
    "List3 =np.random.randn(100)\n",
    "\n",
    "List4 =np.random.randn(100)\n",
    "\n",
    "List5 =np.random.randn(100)"
   ]
  },
  {
   "cell_type": "code",
   "execution_count": 6,
   "id": "683c95d3",
   "metadata": {},
   "outputs": [],
   "source": [
    "Series1 =pd.Series(List1)\n",
    "\n",
    "Series2 =pd.Series(List2)\n",
    "\n",
    "Series3 =pd.Series(List3)\n",
    "\n",
    "Series4 =pd.Series(List4)\n",
    "\n",
    "Series5 =pd.Series(List5)"
   ]
  },
  {
   "cell_type": "code",
   "execution_count": 7,
   "id": "8e20219e",
   "metadata": {},
   "outputs": [],
   "source": [
    " Dataframe1 =pd.DataFrame({\"{S_col_1\":Series1,\n",
    "                         \"S_col_2\":Series2,\n",
    "                          \"S_col_3\":Series3,\n",
    "                          \"Sample_col_4\":Series4,\n",
    "                          \"sample_col_5\":Series5})"
   ]
  },
  {
   "cell_type": "code",
   "execution_count": 9,
   "id": "fadbe44a",
   "metadata": {},
   "outputs": [
    {
     "data": {
      "text/html": [
       "<div>\n",
       "<style scoped>\n",
       "    .dataframe tbody tr th:only-of-type {\n",
       "        vertical-align: middle;\n",
       "    }\n",
       "\n",
       "    .dataframe tbody tr th {\n",
       "        vertical-align: top;\n",
       "    }\n",
       "\n",
       "    .dataframe thead th {\n",
       "        text-align: right;\n",
       "    }\n",
       "</style>\n",
       "<table border=\"1\" class=\"dataframe\">\n",
       "  <thead>\n",
       "    <tr style=\"text-align: right;\">\n",
       "      <th></th>\n",
       "      <th>{S_col_1</th>\n",
       "      <th>S_col_2</th>\n",
       "      <th>S_col_3</th>\n",
       "      <th>Sample_col_4</th>\n",
       "      <th>sample_col_5</th>\n",
       "    </tr>\n",
       "  </thead>\n",
       "  <tbody>\n",
       "    <tr>\n",
       "      <th>0</th>\n",
       "      <td>0</td>\n",
       "      <td>-1.180106</td>\n",
       "      <td>-0.496109</td>\n",
       "      <td>-0.719508</td>\n",
       "      <td>0.140090</td>\n",
       "    </tr>\n",
       "    <tr>\n",
       "      <th>1</th>\n",
       "      <td>1</td>\n",
       "      <td>1.636914</td>\n",
       "      <td>1.926116</td>\n",
       "      <td>-0.566176</td>\n",
       "      <td>-0.338914</td>\n",
       "    </tr>\n",
       "    <tr>\n",
       "      <th>2</th>\n",
       "      <td>2</td>\n",
       "      <td>-1.089395</td>\n",
       "      <td>0.045432</td>\n",
       "      <td>1.838676</td>\n",
       "      <td>1.076980</td>\n",
       "    </tr>\n",
       "    <tr>\n",
       "      <th>3</th>\n",
       "      <td>3</td>\n",
       "      <td>0.004353</td>\n",
       "      <td>-0.770067</td>\n",
       "      <td>1.005404</td>\n",
       "      <td>-0.258648</td>\n",
       "    </tr>\n",
       "    <tr>\n",
       "      <th>4</th>\n",
       "      <td>4</td>\n",
       "      <td>1.118123</td>\n",
       "      <td>-3.516024</td>\n",
       "      <td>0.702105</td>\n",
       "      <td>2.653015</td>\n",
       "    </tr>\n",
       "    <tr>\n",
       "      <th>...</th>\n",
       "      <td>...</td>\n",
       "      <td>...</td>\n",
       "      <td>...</td>\n",
       "      <td>...</td>\n",
       "      <td>...</td>\n",
       "    </tr>\n",
       "    <tr>\n",
       "      <th>95</th>\n",
       "      <td>95</td>\n",
       "      <td>-0.269223</td>\n",
       "      <td>-2.186538</td>\n",
       "      <td>-0.875447</td>\n",
       "      <td>0.402963</td>\n",
       "    </tr>\n",
       "    <tr>\n",
       "      <th>96</th>\n",
       "      <td>96</td>\n",
       "      <td>1.813413</td>\n",
       "      <td>-1.332156</td>\n",
       "      <td>-0.374062</td>\n",
       "      <td>-0.066626</td>\n",
       "    </tr>\n",
       "    <tr>\n",
       "      <th>97</th>\n",
       "      <td>97</td>\n",
       "      <td>0.743596</td>\n",
       "      <td>1.164064</td>\n",
       "      <td>1.248617</td>\n",
       "      <td>-0.353447</td>\n",
       "    </tr>\n",
       "    <tr>\n",
       "      <th>98</th>\n",
       "      <td>98</td>\n",
       "      <td>1.822206</td>\n",
       "      <td>2.321731</td>\n",
       "      <td>0.593696</td>\n",
       "      <td>1.467908</td>\n",
       "    </tr>\n",
       "    <tr>\n",
       "      <th>99</th>\n",
       "      <td>99</td>\n",
       "      <td>1.359700</td>\n",
       "      <td>-0.478942</td>\n",
       "      <td>2.475361</td>\n",
       "      <td>-0.751674</td>\n",
       "    </tr>\n",
       "  </tbody>\n",
       "</table>\n",
       "<p>100 rows × 5 columns</p>\n",
       "</div>"
      ],
      "text/plain": [
       "    {S_col_1   S_col_2   S_col_3  Sample_col_4  sample_col_5\n",
       "0          0 -1.180106 -0.496109     -0.719508      0.140090\n",
       "1          1  1.636914  1.926116     -0.566176     -0.338914\n",
       "2          2 -1.089395  0.045432      1.838676      1.076980\n",
       "3          3  0.004353 -0.770067      1.005404     -0.258648\n",
       "4          4  1.118123 -3.516024      0.702105      2.653015\n",
       "..       ...       ...       ...           ...           ...\n",
       "95        95 -0.269223 -2.186538     -0.875447      0.402963\n",
       "96        96  1.813413 -1.332156     -0.374062     -0.066626\n",
       "97        97  0.743596  1.164064      1.248617     -0.353447\n",
       "98        98  1.822206  2.321731      0.593696      1.467908\n",
       "99        99  1.359700 -0.478942      2.475361     -0.751674\n",
       "\n",
       "[100 rows x 5 columns]"
      ]
     },
     "execution_count": 9,
     "metadata": {},
     "output_type": "execute_result"
    }
   ],
   "source": [
    "Dataframe1"
   ]
  },
  {
   "cell_type": "code",
   "execution_count": null,
   "id": "67f86d8f",
   "metadata": {},
   "outputs": [],
   "source": []
  }
 ],
 "metadata": {
  "kernelspec": {
   "display_name": "Python 3 (ipykernel)",
   "language": "python",
   "name": "python3"
  },
  "language_info": {
   "codemirror_mode": {
    "name": "ipython",
    "version": 3
   },
   "file_extension": ".py",
   "mimetype": "text/x-python",
   "name": "python",
   "nbconvert_exporter": "python",
   "pygments_lexer": "ipython3",
   "version": "3.10.9"
  }
 },
 "nbformat": 4,
 "nbformat_minor": 5
}
