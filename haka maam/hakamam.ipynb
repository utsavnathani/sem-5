{
 "cells": [
  {
   "cell_type": "code",
   "execution_count": 2,
   "id": "4ab3dd9d",
   "metadata": {},
   "outputs": [
    {
     "name": "stdout",
     "output_type": "stream",
     "text": [
      "hello world\n",
      "hello world\n",
      "hello world\n",
      "hello world\n"
     ]
    }
   ],
   "source": [
    "print(\"hello world\")\n",
    "print(\"hello world\")\n",
    "print(\"hello world\")\n",
    "print(\"hello world\")"
   ]
  },
  {
   "cell_type": "code",
   "execution_count": null,
   "id": "616c4684",
   "metadata": {},
   "outputs": [],
   "source": []
  },
  {
   "cell_type": "markdown",
   "id": "5747873a",
   "metadata": {},
   "source": [
    "# class and objects\n"
   ]
  },
  {
   "cell_type": "code",
   "execution_count": 20,
   "id": "f24e3f17",
   "metadata": {},
   "outputs": [
    {
     "name": "stdout",
     "output_type": "stream",
     "text": [
      "Id:101\n",
      "Name:Maruti\n"
     ]
    }
   ],
   "source": [
    "class Cars:\n",
    "    id =101\n",
    "    name = 'Maruti'\n",
    "    def display(self):\n",
    "        print(\"Id:%d\\nName:%s\"%(self.id,self.name))\n",
    "car = Cars() #object creation\n",
    "car. display()\n",
    "#carl = cars ()\n",
    "#car1. display ()        "
   ]
  },
  {
   "cell_type": "raw",
   "id": "5bf9efc8",
   "metadata": {},
   "source": []
  },
  {
   "cell_type": "code",
   "execution_count": 26,
   "id": "8ae8d17f",
   "metadata": {},
   "outputs": [
    {
     "name": "stdout",
     "output_type": "stream",
     "text": [
      "Id:101\n",
      "Name:Maruti\n"
     ]
    },
    {
     "ename": "NameError",
     "evalue": "name 'car' is not defined",
     "output_type": "error",
     "traceback": [
      "\u001b[1;31m---------------------------------------------------------------------------\u001b[0m",
      "\u001b[1;31mNameError\u001b[0m                                 Traceback (most recent call last)",
      "Cell \u001b[1;32mIn[26], line 9\u001b[0m\n\u001b[0;32m      7\u001b[0m car\u001b[38;5;241m.\u001b[39m display()\n\u001b[0;32m      8\u001b[0m \u001b[38;5;28;01mdel\u001b[39;00m car\n\u001b[1;32m----> 9\u001b[0m \u001b[43mcar\u001b[49m\u001b[38;5;241m.\u001b[39m display ()\n",
      "\u001b[1;31mNameError\u001b[0m: name 'car' is not defined"
     ]
    }
   ],
   "source": [
    "class Cars:\n",
    "    id =101\n",
    "    name = 'Maruti'\n",
    "    def display(self):\n",
    "        print(\"Id:%d\\nName:%s\"%(self.id,self.name))\n",
    "car = Cars() #object creation\n",
    "car. display()\n",
    "del car\n",
    "car. display () "
   ]
  },
  {
   "cell_type": "code",
   "execution_count": 30,
   "id": "4dd72a2a",
   "metadata": {},
   "outputs": [
    {
     "name": "stdout",
     "output_type": "stream",
     "text": [
      "ID: 101 \n",
      "Name: John\n",
      "ID: 102 \n",
      "Name: David\n"
     ]
    }
   ],
   "source": [
    "#creating the constructor in python\n",
    "class Employee:\n",
    "    def __init__(self,name,id): #constructor\n",
    "        self.id=id\n",
    "        self.name=name\n",
    "        \n",
    "    def display(self):\n",
    "        print(\"ID: %d \\nName: %s\"%(self.id, self.name))\n",
    "        \n",
    "emp1 = Employee(\"John\",101)\n",
    "emp2 = Employee(\"David\",102)\n",
    "\n",
    "emp1.display()\n",
    "emp2.display()"
   ]
  },
  {
   "cell_type": "markdown",
   "id": "d5e8e671",
   "metadata": {},
   "source": [
    "# 23/6/23\n"
   ]
  },
  {
   "cell_type": "markdown",
   "id": "8fc8e564",
   "metadata": {},
   "source": [
    "# string formatting"
   ]
  },
  {
   "cell_type": "code",
   "execution_count": 7,
   "id": "739e28cb",
   "metadata": {},
   "outputs": [
    {
     "name": "stdout",
     "output_type": "stream",
     "text": [
      "student name is karan and Id is 101\n",
      "student Name iskavyaand Id is102\n"
     ]
    }
   ],
   "source": [
    "Name=\"kartik\"\n",
    "Id=100\n",
    "print(\"student name is %s and id is %d\"%(Name,Id))\n",
    "\n",
    "# use of formatting(older approch\n",
    "\n",
    "Name=\"karan\"\n",
    "Id=101\n",
    "print(\"student name is {} and Id is {}\".format(Name,Id))\n",
    "\n",
    "# use of f-string formatting\n",
    "\n",
    "Name=\"kavya\"\n",
    "Id=102\n",
    "print(f\"student Name is{Name}and Id is{Id}\")"
   ]
  },
  {
   "cell_type": "markdown",
   "id": "82c87168",
   "metadata": {},
   "source": [
    "# 26/6/23"
   ]
  },
  {
   "cell_type": "code",
   "execution_count": 2,
   "id": "e47ff04a",
   "metadata": {},
   "outputs": [
    {
     "name": "stdout",
     "output_type": "stream",
     "text": [
      "the number of student: 4\n"
     ]
    }
   ],
   "source": [
    "#counting the number of objects of a class \n",
    "class Student:\n",
    "    counter=0  #class variable\n",
    "    def __init__(self):\n",
    "        Student.counter=Student.counter+1\n",
    "        \n",
    "s1=Student()\n",
    "s2=Student()\n",
    "s3=Student()\n",
    "s4=Student()\n",
    "print(\"the number of student:\",Student.counter)"
   ]
  },
  {
   "cell_type": "code",
   "execution_count": 11,
   "id": "3aa9e495",
   "metadata": {},
   "outputs": [
    {
     "name": "stdout",
     "output_type": "stream",
     "text": [
      "This is Non-Parameterized Constructor...\n",
      "Car price is: 6.71 Lakh\n",
      "Car Manufactured by Toyota\n",
      "Car Model is Corolla\n",
      "Car Launching Year is 2023\n"
     ]
    }
   ],
   "source": [
    "class Car:\n",
    "    Make = \"Toyota\"  #class variable\n",
    "    Model = \"Corolla\"\n",
    "    Year = 2023\n",
    "    \n",
    "    def __init__(self):\n",
    "        Price = \"6.71 Lakh\"\n",
    "        print(\"This is Non-Parameterized Constructor...\")\n",
    "        print(\"Car price is:\",Price)\n",
    "        \n",
    "    def get_info(self):\n",
    "        print(\"Car Manufactured by\",Car.Make)\n",
    "        print(\"Car Model is\",Car.Model)\n",
    "        print(\"Car Launching Year is\",Car.Year)\n",
    "       # print(\"price\",Car.Price)\n",
    "        \n",
    "car1 = Car()\n",
    "car1.get_info()"
   ]
  },
  {
   "cell_type": "markdown",
   "id": "6582487f",
   "metadata": {},
   "source": [
    "# assignment2"
   ]
  },
  {
   "cell_type": "markdown",
   "id": "29a9209f",
   "metadata": {},
   "source": [
    "# Q1"
   ]
  },
  {
   "cell_type": "code",
   "execution_count": 1,
   "id": "787bbd13",
   "metadata": {},
   "outputs": [
    {
     "name": "stdout",
     "output_type": "stream",
     "text": [
      "Utsav ki Love Storiyaa\n",
      "Utsav Nathani\n",
      "2021\n"
     ]
    }
   ],
   "source": [
    "class Book:\n",
    "\tdef __init__(self):\n",
    "\n",
    "\t\tself.title = \"Utsav ki Love Storiyaa\"\n",
    "\t\tself.author = \"Utsav Nathani\"\n",
    "\t\tself.publication_year = 2021 # Creating an instance of the Book class using the non-parameterized constructor \n",
    "book = Book ( )\n",
    "# Accessing the attributes of the book\n",
    "print (book.title)\n",
    "print(book.author)\n",
    "print(book.publication_year)"
   ]
  },
  {
   "cell_type": "markdown",
   "id": "dcb09d0a",
   "metadata": {},
   "source": [
    "# more than one constructor in single class\n"
   ]
  },
  {
   "cell_type": "code",
   "execution_count": 3,
   "id": "059b8b12",
   "metadata": {},
   "outputs": [
    {
     "name": "stdout",
     "output_type": "stream",
     "text": [
      "the second constructor\n",
      "the second constructor\n"
     ]
    }
   ],
   "source": [
    "class Student:\n",
    "    def __init__(self):\n",
    "        print(\"the first constructor\")\n",
    "    def __init__(self):\n",
    "        print(\"the second constructor\")\n",
    " \n",
    "st =Student()\n",
    "st1 =Student()\n"
   ]
  },
  {
   "cell_type": "code",
   "execution_count": 10,
   "id": "33c1c1d9",
   "metadata": {},
   "outputs": [
    {
     "data": {
      "text/plain": [
       "'the animal is dog and says woof'"
      ]
     },
     "execution_count": 10,
     "metadata": {},
     "output_type": "execute_result"
    }
   ],
   "source": [
    "class Animal:\n",
    "    def __init__(self,name,species):\n",
    "        self.name =name\n",
    "        self.species =species\n",
    "     \n",
    "    def __init__(self,name,species,age):\n",
    "        self.name = name\n",
    "        self.species=species\n",
    "        self.age=age\n",
    "        \n",
    "    def __init__(self,name,species,age,number):\n",
    "        self.name = name\n",
    "        self.species=species\n",
    "        self.age=age\n",
    "        self.number =number\n",
    "       \n",
    "    def make_sound(self,sound):\n",
    "        return\"the animal is {} and says {}\".format(self.name,sound)\n",
    "    \n",
    "dog =Animal(\"dog\",\"mamal\",15,100)\n",
    "\n",
    "dog.make_sound('woof')\n"
   ]
  },
  {
   "cell_type": "code",
   "execution_count": null,
   "id": "7cc43294",
   "metadata": {},
   "outputs": [],
   "source": []
  },
  {
   "cell_type": "code",
   "execution_count": null,
   "id": "7cf017b3",
   "metadata": {},
   "outputs": [],
   "source": []
  }
 ],
 "metadata": {
  "kernelspec": {
   "display_name": "Python 3 (ipykernel)",
   "language": "python",
   "name": "python3"
  },
  "language_info": {
   "codemirror_mode": {
    "name": "ipython",
    "version": 3
   },
   "file_extension": ".py",
   "mimetype": "text/x-python",
   "name": "python",
   "nbconvert_exporter": "python",
   "pygments_lexer": "ipython3",
   "version": "3.10.9"
  }
 },
 "nbformat": 4,
 "nbformat_minor": 5
}
